{
 "cells": [
  {
   "cell_type": "code",
   "execution_count": 1,
   "metadata": {},
   "outputs": [],
   "source": [
    "import operator\n",
    "\n",
    "class ScienceNerBaseline():\n",
    "    \n",
    "    # load the training set, and insert 2 'unknown' tokens between each paragraph\n",
    "    def load(self,inFile) :\n",
    "        txtfile = open(inFile, \"r\")\n",
    "        self.tokens = []\n",
    "        for i in txtfile :\n",
    "            if i.strip() == \"\" :\n",
    "                self.tokens.append((\"<UNK>\", \"<UNK>\"))\n",
    "                self.tokens.append((\"<UNK>\", \"<UNK>\"))\n",
    "                continue\n",
    "            wd, tag = i.strip().split()\n",
    "            self.tokens.append((wd, tag))\n",
    "        txtfile.close()\n",
    "        \n",
    "    \n",
    "    # this function slides a 3-word window over the entire training set word-by-word to\n",
    "    # get every trigram, and classifies the 3-gram to be whatever tag the current word is\n",
    "    def countTrigrams(self):\n",
    "        self.counts = defaultdict(lambda: defaultdict(lambda: 0.0))\n",
    "        self.context_totals = dict()\n",
    "        w_1, w_2 = None, None\n",
    "        for word in self.tokens:\n",
    "            \n",
    "            # word and tag\n",
    "            wd, tk = word\n",
    "            if w_1 is not None and w_2 is not None:\n",
    "                self.counts[(w_2,w_1,wd)][tk] += 1\n",
    "            w_2 = w_1\n",
    "            w_1 = wd\n",
    "\n",
    "    \n",
    "    # this function run the test set and calculates accuracy\n",
    "    def evaluate(self, testfile) :        \n",
    "        txtfile = open(testfile, \"r\")\n",
    "        testtokens = []\n",
    "        for i in txtfile :\n",
    "            \n",
    "            # if there is a blank space in the test file, add 2 unknown tokens\n",
    "            if i.strip() == \"\" :\n",
    "                testtokens.append((\"<UNK>\", \"<UNK>\"))\n",
    "                testtokens.append((\"<UNK>\", \"<UNK>\"))\n",
    "                continue\n",
    "            wd, tag = i.strip().split()\n",
    "            testtokens.append((wd, tag))\n",
    "        txtfile.close()\n",
    "        \n",
    "                \n",
    "        w_1, w_2 = None, None\n",
    "        num_correct = num_test = 0\n",
    "        for word in testtokens:\n",
    "            wd, tk = word\n",
    "            \n",
    "            # skip unknown words and create 2 dummy trigram tokens for beginning\n",
    "            if w_1 is not None and w_2 is not None and wd is not \"<UNK>\":\n",
    "                # context is w_2, w_1, wd\n",
    "                num_test += 1\n",
    "                prediction = max(self.counts[(w_2,w_1,wd)].iteritems())\n",
    "                \n",
    "                # correct prediction\n",
    "                if prediction[0] == tk :\n",
    "                    num_correct +=1\n",
    "                    \n",
    "            w_2 = w_1\n",
    "            w_1 = wd\n",
    "            \n",
    "            \n",
    "        accuracy = num_correct * 1.0 / num_test\n",
    "        return accuracy\n",
    "        "
   ]
  },
  {
   "cell_type": "code",
   "execution_count": 5,
   "metadata": {},
   "outputs": [
    {
     "name": "stdout",
     "output_type": "stream",
     "text": [
      "Accuracy is : 0.921436588103\n"
     ]
    }
   ],
   "source": [
    "import os\n",
    "from collections import defaultdict\n",
    "\n",
    "modelInst = ScienceNerBaseline()\n",
    "\n",
    "os.chdir('../data')\n",
    "modelInst.load(\"test.txt\")\n",
    "modelInst.countTrigrams()\n",
    "acc = modelInst.evaluate(\"test.txt\")\n",
    "print \"Accuracy is :\", acc"
   ]
  }
 ],
 "metadata": {
  "kernelspec": {
   "display_name": "Python 2",
   "language": "python",
   "name": "python2"
  },
  "language_info": {
   "codemirror_mode": {
    "name": "ipython",
    "version": 2
   },
   "file_extension": ".py",
   "mimetype": "text/x-python",
   "name": "python",
   "nbconvert_exporter": "python",
   "pygments_lexer": "ipython2",
   "version": "2.7.13"
  }
 },
 "nbformat": 4,
 "nbformat_minor": 2
}
